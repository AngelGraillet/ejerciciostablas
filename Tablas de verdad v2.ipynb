{
 "cells": [
  {
   "cell_type": "code",
   "execution_count": 2,
   "id": "04248a1f",
   "metadata": {},
   "outputs": [
    {
     "name": "stdout",
     "output_type": "stream",
     "text": [
      "Hola LIS101\n"
     ]
    }
   ],
   "source": [
    "print(\"Hola LIS101\")"
   ]
  },
  {
   "cell_type": "markdown",
   "id": "63bc0280",
   "metadata": {},
   "source": [
    "# Tablas de verdad v4\n",
    "\n",
    "De acuerdo con Platzi, las tablas de verdad son herramientas representadas a través de varios gráficos de filas y columnas que muestran todos los posibles escenarios y condiciones de valores de entrada para una operación lógica y su resultado correspondiente.\n",
    "\n",
    "Su función base es mostrar cómo funcionan un circuito electrónico y los programas de una computadora, siendo también un pilar de la lógica proposicional.\n",
    "\n",
    "<img src=\"https://static.platzi.com/media/user_upload/tablas-verdad-reglas-9ad0f07d-24d4-4a02-aaf5-be8db8711221.jpg\" width=500>\n",
    "\n",
    "# Una pequeña introducción sobre variables en Python\n",
    "\n",
    "De acuerdo con un <A HREF=\"https://tutorialpython.com/variables-en-python/\">sitio</A> web, una variable es un sitio donde guardamos una determinada información. En función del tipo de información que guardemos (texto, números, booleanas, etc.), la variable será de uno u otro tipo. Por simplicidad sólo vamos a ver las variables de texto y numéricas, ya que son las que se usan en más del 80% de las ocasiones.\n",
    "\n",
    "Cada variable necesita un nombre con el que referirnos a ella. Python tiene en cuenta si escribimos en mayúsculas o minúsculas la variable (lo que se conoce como case sensitive). No es lo mismo una variable que se llame f1 que una que se llame F1. Por ejemplo:\n",
    "\n"
   ]
  },
  {
   "cell_type": "code",
   "execution_count": 3,
   "id": "04c8d4b9",
   "metadata": {},
   "outputs": [],
   "source": [
    "num = 123"
   ]
  },
  {
   "cell_type": "code",
   "execution_count": 4,
   "id": "cdc3ca0e",
   "metadata": {},
   "outputs": [
    {
     "name": "stdout",
     "output_type": "stream",
     "text": [
      "123\n"
     ]
    }
   ],
   "source": [
    "print(num)"
   ]
  },
  {
   "cell_type": "code",
   "execution_count": 5,
   "id": "22b3ebfc",
   "metadata": {},
   "outputs": [],
   "source": [
    "name = \"juan\""
   ]
  },
  {
   "cell_type": "code",
   "execution_count": 6,
   "id": "ae1d265c",
   "metadata": {},
   "outputs": [
    {
     "name": "stdout",
     "output_type": "stream",
     "text": [
      "juan\n"
     ]
    }
   ],
   "source": [
    "print(name)"
   ]
  },
  {
   "cell_type": "code",
   "execution_count": 7,
   "id": "d51f8ea8",
   "metadata": {},
   "outputs": [],
   "source": [
    "boleeano = True"
   ]
  },
  {
   "cell_type": "code",
   "execution_count": 8,
   "id": "662627dd",
   "metadata": {},
   "outputs": [
    {
     "name": "stdout",
     "output_type": "stream",
     "text": [
      "True\n"
     ]
    }
   ],
   "source": [
    "print(boleeano)"
   ]
  },
  {
   "cell_type": "code",
   "execution_count": 13,
   "id": "3f82f206",
   "metadata": {},
   "outputs": [
    {
     "name": "stdout",
     "output_type": "stream",
     "text": [
      "Escribe tu nombre: Angel\n"
     ]
    }
   ],
   "source": [
    "nombre = input(\"Escribe tu nombre: \")"
   ]
  },
  {
   "cell_type": "code",
   "execution_count": 14,
   "id": "7aad04bc",
   "metadata": {},
   "outputs": [
    {
     "name": "stdout",
     "output_type": "stream",
     "text": [
      "Angel\n"
     ]
    }
   ],
   "source": [
    "print(nombre)"
   ]
  },
  {
   "cell_type": "code",
   "execution_count": 15,
   "id": "21d3a1ad",
   "metadata": {},
   "outputs": [
    {
     "name": "stdout",
     "output_type": "stream",
     "text": [
      "¿Cuantos años tienes?18\n"
     ]
    }
   ],
   "source": [
    "edad = input(\"¿Cuantos años tienes?\")"
   ]
  },
  {
   "cell_type": "code",
   "execution_count": 16,
   "id": "d438e372",
   "metadata": {},
   "outputs": [
    {
     "name": "stdout",
     "output_type": "stream",
     "text": [
      "18\n"
     ]
    }
   ],
   "source": [
    "print(edad)"
   ]
  },
  {
   "cell_type": "code",
   "execution_count": 18,
   "id": "2d3e28d7",
   "metadata": {},
   "outputs": [
    {
     "name": "stdout",
     "output_type": "stream",
     "text": [
      "216\n"
     ]
    }
   ],
   "source": [
    "meses = int(edad)*12\n",
    "print(meses)"
   ]
  },
  {
   "cell_type": "markdown",
   "id": "09ef948b",
   "metadata": {},
   "source": [
    "## Regresando a las tablas de verdad\n",
    "\n",
    "En python existen muchas bibliotecas con diferentes funcionalidades, casi para todo. Para el caso de las tablas de verdad usamos la biblioteca ttg (Truth Table Generator).\n",
    "\n",
    "https://pypi.org/project/truth-table-generator/\n",
    "\n",
    "Para importar la biblioteca debemos ejecutar el siguiente comando: pip install truth-table-generator (Tarda un momento al ejecutarlo)"
   ]
  },
  {
   "cell_type": "code",
   "execution_count": 12,
   "id": "352687a1",
   "metadata": {},
   "outputs": [
    {
     "name": "stdout",
     "output_type": "stream",
     "text": [
      "Requirement already satisfied: truth-table-generator in c:\\users\\zs23017369\\appdata\\local\\anaconda3\\lib\\site-packages (1.1.2)\n",
      "Requirement already satisfied: numpy in c:\\users\\zs23017369\\appdata\\local\\anaconda3\\lib\\site-packages (from truth-table-generator) (1.24.3)\n",
      "Requirement already satisfied: pandas in c:\\users\\zs23017369\\appdata\\local\\anaconda3\\lib\\site-packages (from truth-table-generator) (1.5.3)\n",
      "Requirement already satisfied: PTable in c:\\users\\zs23017369\\appdata\\local\\anaconda3\\lib\\site-packages (from truth-table-generator) (0.9.2)\n",
      "Requirement already satisfied: pyparsing in c:\\users\\zs23017369\\appdata\\local\\anaconda3\\lib\\site-packages (from truth-table-generator) (3.0.9)\n",
      "Requirement already satisfied: tabulate in c:\\users\\zs23017369\\appdata\\local\\anaconda3\\lib\\site-packages (from truth-table-generator) (0.8.10)\n",
      "Requirement already satisfied: jinja2 in c:\\users\\zs23017369\\appdata\\local\\anaconda3\\lib\\site-packages (from truth-table-generator) (3.1.2)\n",
      "Requirement already satisfied: MarkupSafe>=2.0 in c:\\users\\zs23017369\\appdata\\local\\anaconda3\\lib\\site-packages (from jinja2->truth-table-generator) (2.1.1)\n",
      "Requirement already satisfied: python-dateutil>=2.8.1 in c:\\users\\zs23017369\\appdata\\local\\anaconda3\\lib\\site-packages (from pandas->truth-table-generator) (2.8.2)\n",
      "Requirement already satisfied: pytz>=2020.1 in c:\\users\\zs23017369\\appdata\\local\\anaconda3\\lib\\site-packages (from pandas->truth-table-generator) (2022.7)\n",
      "Requirement already satisfied: six>=1.5 in c:\\users\\zs23017369\\appdata\\local\\anaconda3\\lib\\site-packages (from python-dateutil>=2.8.1->pandas->truth-table-generator) (1.16.0)\n",
      "Note: you may need to restart the kernel to use updated packages.\n"
     ]
    }
   ],
   "source": [
    "pip install truth-table-generator"
   ]
  },
  {
   "cell_type": "code",
   "execution_count": 25,
   "id": "278b046b",
   "metadata": {},
   "outputs": [],
   "source": [
    "import ttg"
   ]
  },
  {
   "cell_type": "markdown",
   "id": "5a9f94cf",
   "metadata": {},
   "source": [
    "Una tabla de verdad tiene una columna para cada variable de entrada y una columna final que muestra todos los resultados posibles de la operación lógica que representa la tabla\n",
    "\n",
    "Por ejemplo, si tenemos dos proposiciones **p, **q podemos escribir el siguiente codigo:\n"
   ]
  },
  {
   "cell_type": "code",
   "execution_count": 26,
   "id": "9af44c78",
   "metadata": {},
   "outputs": [
    {
     "name": "stdout",
     "output_type": "stream",
     "text": [
      "+-----+-----+\n",
      "|  p  |  q  |\n",
      "|-----+-----|\n",
      "|  1  |  1  |\n",
      "|  1  |  0  |\n",
      "|  0  |  1  |\n",
      "|  0  |  0  |\n",
      "+-----+-----+\n"
     ]
    }
   ],
   "source": [
    "print(ttg.Truths (['p', 'q']))"
   ]
  },
  {
   "cell_type": "markdown",
   "id": "84152d8b",
   "metadata": {},
   "source": [
    "Tambien podemos agregar tres, cuatro o más proposiciones, por ejemplo:"
   ]
  },
  {
   "cell_type": "code",
   "execution_count": 28,
   "id": "a6b2d990",
   "metadata": {},
   "outputs": [
    {
     "name": "stdout",
     "output_type": "stream",
     "text": [
      "+-----+-----+-----+\n",
      "|  p  |  q  |  r  |\n",
      "|-----+-----+-----|\n",
      "|  1  |  1  |  1  |\n",
      "|  1  |  1  |  0  |\n",
      "|  1  |  0  |  1  |\n",
      "|  1  |  0  |  0  |\n",
      "|  0  |  1  |  1  |\n",
      "|  0  |  1  |  0  |\n",
      "|  0  |  0  |  1  |\n",
      "|  0  |  0  |  0  |\n",
      "+-----+-----+-----+\n"
     ]
    }
   ],
   "source": [
    "print(ttg.Truths (['p', 'q', 'r']))"
   ]
  },
  {
   "cell_type": "markdown",
   "id": "da98732c",
   "metadata": {},
   "source": [
    "# Operadores y sus representaciones\n",
    "<br>\n",
    "<li> Negación : 'not', '-','~'\n",
    "<li> Disyunción lógica :'or' (Normalmente: V)\n",
    "<li> Lógico ni :'nor' (Flecha hacia abajo)\n",
    "<li> Disyunción exclusiva : 'xor','!=' (V con linea abajo)\n",
    "<li> Conjunción lógica : 'and' (Normalmente: ^)\n",
    "<li> NAND lógica :'nand'\n",
    "<li> Implicación material : '=>','implies'\n",
    "<li> Bicondicional lógico :'='\n",
    "<br>\n",
    "<br> Nota: ¡Utilice paréntesis! Especialmente con el operador de negación. Utilice las tablas de arriba y de abajo como referencia. Aunque se utilizan reglas de precedencia, a veces la precedencia entre conjunción y disyunción no se especifica y es necesario proporcionarla explícitamente en una fórmula determinada entre paréntesis."
   ]
  },
  {
   "cell_type": "markdown",
   "id": "398eecb1",
   "metadata": {},
   "source": [
    "## Ejercicios\n"
   ]
  },
  {
   "cell_type": "code",
   "execution_count": 2,
   "id": "bbef4792",
   "metadata": {},
   "outputs": [],
   "source": [
    "import ttg"
   ]
  },
  {
   "cell_type": "code",
   "execution_count": 3,
   "id": "2aa837aa",
   "metadata": {},
   "outputs": [
    {
     "name": "stdout",
     "output_type": "stream",
     "text": [
      "+-----+-----+-----------+\n",
      "|  p  |  q  |  p and q  |\n",
      "|-----+-----+-----------|\n",
      "|  1  |  1  |     1     |\n",
      "|  1  |  0  |     0     |\n",
      "|  0  |  1  |     0     |\n",
      "|  0  |  0  |     0     |\n",
      "+-----+-----+-----------+\n"
     ]
    }
   ],
   "source": [
    "print(ttg.Truths (['p', 'q'], ['p and q']))"
   ]
  },
  {
   "cell_type": "code",
   "execution_count": 62,
   "id": "0aa13e56",
   "metadata": {},
   "outputs": [
    {
     "name": "stdout",
     "output_type": "stream",
     "text": [
      "+-----+-----+-----+-----------+-------------------+\n",
      "|  p  |  q  |  r  |  p and q  |  (p and q) and r  |\n",
      "|-----+-----+-----+-----------+-------------------|\n",
      "|  1  |  1  |  1  |     1     |         1         |\n",
      "|  1  |  1  |  0  |     1     |         0         |\n",
      "|  1  |  0  |  1  |     0     |         0         |\n",
      "|  1  |  0  |  0  |     0     |         0         |\n",
      "|  0  |  1  |  1  |     0     |         0         |\n",
      "|  0  |  1  |  0  |     0     |         0         |\n",
      "|  0  |  0  |  1  |     0     |         0         |\n",
      "|  0  |  0  |  0  |     0     |         0         |\n",
      "+-----+-----+-----+-----------+-------------------+\n"
     ]
    }
   ],
   "source": [
    "print(ttg.Truths (['p','q','r'], ['p and q', '(p and q) and r']))"
   ]
  },
  {
   "cell_type": "code",
   "execution_count": 70,
   "id": "4aa0871b",
   "metadata": {},
   "outputs": [
    {
     "name": "stdout",
     "output_type": "stream",
     "text": [
      "+-----+-----+---------+---------------+--------------+--------------------+--------------------------------------+\n",
      "|  p  |  q  |  not q  |  p and not q  |  p => not q  |  not (p => not q)  |  not (p => not q) and (p and not q)  |\n",
      "|-----+-----+---------+---------------+--------------+--------------------+--------------------------------------|\n",
      "|  1  |  1  |    0    |       0       |      0       |         1          |                  0                   |\n",
      "|  1  |  0  |    1    |       1       |      1       |         0          |                  0                   |\n",
      "|  0  |  1  |    0    |       0       |      1       |         0          |                  0                   |\n",
      "|  0  |  0  |    1    |       0       |      1       |         0          |                  0                   |\n",
      "+-----+-----+---------+---------------+--------------+--------------------+--------------------------------------+\n"
     ]
    }
   ],
   "source": [
    "print(ttg.Truths (['p','q'], ['not q', 'p and not q', 'p => not q', 'not (p => not q)', 'not (p => not q) and (p and not q)']))"
   ]
  },
  {
   "cell_type": "code",
   "execution_count": 71,
   "id": "ab474703",
   "metadata": {},
   "outputs": [
    {
     "name": "stdout",
     "output_type": "stream",
     "text": [
      "+-----+-----+---------+-----------+--------------+-----------------------------+\n",
      "|  p  |  q  |  not q  |  p and q  |  p or not q  |  (p and q) or (p or not q)  |\n",
      "|-----+-----+---------+-----------+--------------+-----------------------------|\n",
      "|  1  |  1  |    0    |     1     |      1       |              1              |\n",
      "|  1  |  0  |    1    |     0     |      1       |              1              |\n",
      "|  0  |  1  |    0    |     0     |      0       |              0              |\n",
      "|  0  |  0  |    1    |     0     |      1       |              1              |\n",
      "+-----+-----+---------+-----------+--------------+-----------------------------+\n"
     ]
    }
   ],
   "source": [
    "print(ttg.Truths (['p', 'q'], ['not q', 'p and q', 'p or not q', '(p and q) or (p or not q)']))"
   ]
  },
  {
   "cell_type": "markdown",
   "id": "5bdef3f9",
   "metadata": {},
   "source": [
    "# 5"
   ]
  },
  {
   "cell_type": "markdown",
   "id": "c1f82bce",
   "metadata": {},
   "source": [
    "# 6"
   ]
  },
  {
   "cell_type": "code",
   "execution_count": 72,
   "id": "13c7eb90",
   "metadata": {},
   "outputs": [
    {
     "name": "stdout",
     "output_type": "stream",
     "text": [
      "+-----+-----+---------+---------+-------------------+---------------+--------------------------------------+\n",
      "|  p  |  q  |  not p  |  not q  |  not p and not q  |  p and not q  |  (not p and not q) or (p and not q)  |\n",
      "|-----+-----+---------+---------+-------------------+---------------+--------------------------------------|\n",
      "|  1  |  1  |    0    |    0    |         0         |       0       |                  0                   |\n",
      "|  1  |  0  |    0    |    1    |         0         |       1       |                  1                   |\n",
      "|  0  |  1  |    1    |    0    |         0         |       0       |                  0                   |\n",
      "|  0  |  0  |    1    |    1    |         1         |       0       |                  1                   |\n",
      "+-----+-----+---------+---------+-------------------+---------------+--------------------------------------+\n"
     ]
    }
   ],
   "source": [
    "print(ttg.Truths(['p','q'], ['not p', 'not q', 'not p and not q', 'p and not q', '(not p and not q) or (p and not q)']))"
   ]
  },
  {
   "cell_type": "code",
   "execution_count": 74,
   "id": "bb13cb1e",
   "metadata": {},
   "outputs": [
    {
     "name": "stdout",
     "output_type": "stream",
     "text": [
      "+-----+-----+-----+-----------+----------------+\n",
      "|  p  |  q  |  r  |  q and r  |  p or q and r  |\n",
      "|-----+-----+-----+-----------+----------------|\n",
      "|  1  |  1  |  1  |     1     |       1        |\n",
      "|  1  |  1  |  0  |     0     |       1        |\n",
      "|  1  |  0  |  1  |     0     |       1        |\n",
      "|  1  |  0  |  0  |     0     |       1        |\n",
      "|  0  |  1  |  1  |     1     |       1        |\n",
      "|  0  |  1  |  0  |     0     |       0        |\n",
      "|  0  |  0  |  1  |     0     |       0        |\n",
      "|  0  |  0  |  0  |     0     |       0        |\n",
      "+-----+-----+-----+-----------+----------------+\n"
     ]
    }
   ],
   "source": [
    "print(ttg.Truths(['p','q','r'], ['q and r', 'p or q and r']))"
   ]
  },
  {
   "cell_type": "code",
   "execution_count": null,
   "id": "71ee91fc",
   "metadata": {},
   "outputs": [],
   "source": [
    "print"
   ]
  }
 ],
 "metadata": {
  "kernelspec": {
   "display_name": "Python 3 (ipykernel)",
   "language": "python",
   "name": "python3"
  },
  "language_info": {
   "codemirror_mode": {
    "name": "ipython",
    "version": 3
   },
   "file_extension": ".py",
   "mimetype": "text/x-python",
   "name": "python",
   "nbconvert_exporter": "python",
   "pygments_lexer": "ipython3",
   "version": "3.11.4"
  }
 },
 "nbformat": 4,
 "nbformat_minor": 5
}
